{
 "cells": [
  {
   "cell_type": "code",
   "execution_count": 32,
   "metadata": {},
   "outputs": [
    {
     "name": "stdout",
     "output_type": "stream",
     "text": [
      "Welcome to my game!\n"
     ]
    }
   ],
   "source": [
    "print(\"Welcome to my game!\")"
   ]
  },
  {
   "cell_type": "code",
   "execution_count": 33,
   "metadata": {},
   "outputs": [
    {
     "name": "stdout",
     "output_type": "stream",
     "text": [
      "OK, Let's play :-)\n"
     ]
    }
   ],
   "source": [
    "playing = input(\" do you want to play? \")\n",
    "if playing.lower() != \"yes\": \n",
    "    quit()\n",
    "print(\"OK, Let's play :-)\")"
   ]
  },
  {
   "cell_type": "code",
   "execution_count": 34,
   "metadata": {},
   "outputs": [],
   "source": [
    "Questions=[\"what does CPU stand for? \",\"what does GPU stand for? \",\"what does RAM stand for? \", \" what does PSU stand for? \"] \n",
    "Answers = [\"central processing unit\", \"graphic processing unit\",\"random accessing memory \", \"power server unit\"]"
   ]
  },
  {
   "cell_type": "code",
   "execution_count": 35,
   "metadata": {},
   "outputs": [],
   "source": [
    "a=0"
   ]
  },
  {
   "cell_type": "code",
   "execution_count": 36,
   "metadata": {},
   "outputs": [
    {
     "name": "stdout",
     "output_type": "stream",
     "text": [
      "0\n",
      "what does CPU stand for? \n",
      "Incorrect! ,  The correct answer is: central processing unit\n",
      "1\n",
      "what does GPU stand for? \n",
      "Incorrect! ,  The correct answer is: graphic processing unit\n",
      "2\n",
      "what does RAM stand for? \n",
      "Incorrect! ,  The correct answer is: random accessing memory \n",
      "3\n",
      " what does PSU stand for? \n",
      "Incorrect! ,  The correct answer is: power server unit\n",
      "Your Score is : 0.0\n",
      "You answered : 0 out of 4 correctly\n"
     ]
    }
   ],
   "source": [
    "for i in range(0,4):\n",
    "    print (i)\n",
    "    answer=input(Questions[i])\n",
    "    print(f\"{Questions[i]}\")    \n",
    "    if answer.lower() == f\"{Answers[i]}\":\n",
    "        a=a+1\n",
    "        print(\"Correct\")\n",
    "    else:\n",
    "        print(\"Incorrect! ,  The correct answer is:\", Answers[i])\n",
    "        \n",
    "        \n",
    "        \n",
    "print(\"Your Score is :\", a/len(Questions))\n",
    "print(\"You answered :\", a ,\"out of\", len(Questions), \"correctly\")\n"
   ]
  },
  {
   "cell_type": "code",
   "execution_count": null,
   "metadata": {},
   "outputs": [],
   "source": [
    "# Welcome message\n",
    "print(\"Welcome to my game!\")\n",
    "\n",
    "# Ask if the user wants to play\n",
    "playing = input(\"Do you want to play? \")\n",
    "if playing.lower() != \"yes\":\n",
    "    quit()\n",
    "\n",
    "print(\"OK, Let's play :-)\")\n",
    "\n",
    "# Define questions and answers\n",
    "Questions = [\"what does CPU stand for? \", \"what does GPU stand for? \", \"what does RAM stand for? \", \"what does PSU stand for? \"]\n",
    "Answers = [\"central processing unit\", \"graphic processing unit\", \"random accessing memory\", \"power server unit\"]\n",
    "\n",
    "# Initialize score variable\n",
    "score = 0\n",
    "\n",
    "# Loop through the questions\n",
    "for i in range(len(Questions)):\n",
    "    print(f\"Question {i + 1}:\")\n",
    "    answer = input(Questions[i])\n",
    "    if answer.lower() == Answers[i]:\n",
    "        score += 1\n",
    "        print(\"Correct\")\n",
    "    else:\n",
    "        print(\"Incorrect! The correct answer is:\", Answers[i])\n",
    "\n",
    "# Display the user's score and number of correct answers\n",
    "print(\"Your Score is:\", score / len(Questions))\n",
    "print(\"You answered:\", score, \"out of\", len(Questions), \"correctly\")\n"
   ]
  }
 ],
 "metadata": {
  "kernelspec": {
   "display_name": "Python 3",
   "language": "python",
   "name": "python3"
  },
  "language_info": {
   "codemirror_mode": {
    "name": "ipython",
    "version": 3
   },
   "file_extension": ".py",
   "mimetype": "text/x-python",
   "name": "python",
   "nbconvert_exporter": "python",
   "pygments_lexer": "ipython3",
   "version": "3.11.2"
  }
 },
 "nbformat": 4,
 "nbformat_minor": 2
}
